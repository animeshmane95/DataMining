{
 "cells": [
  {
   "cell_type": "markdown",
   "metadata": {},
   "source": [
    "### Load libraries"
   ]
  },
  {
   "cell_type": "code",
   "execution_count": 2,
   "metadata": {},
   "outputs": [
    {
     "name": "stdout",
     "output_type": "stream",
     "text": [
      "Populating the interactive namespace from numpy and matplotlib\n"
     ]
    }
   ],
   "source": [
    "#Import libraries\n",
    "import pandas as pd \n",
    "import numpy as np\n",
    "%pylab inline\n",
    "import warnings\n",
    "warnings.filterwarnings('ignore')"
   ]
  },
  {
   "cell_type": "markdown",
   "metadata": {},
   "source": [
    "### Load 'Fertility' dataset"
   ]
  },
  {
   "cell_type": "code",
   "execution_count": 3,
   "metadata": {
    "collapsed": true
   },
   "outputs": [],
   "source": [
    "#Load Iris dataset\n",
    "fileURL = \"http://archive.ics.uci.edu/ml/machine-learning-databases/00244/fertility_Diagnosis.txt\" \n",
    "dfFert = pd.read_csv(fileURL, names=[\"Season of analysis\", \"Age\", \"Childish diseases\", \"Accident/trauma\",\n",
    "                                          \"Surgical intervention\",\"High fever in last year\", \"Freq of alcohol consumption\",\n",
    "                                          \"Smoking habit\",\"No of hrs sitting per day\", \"Diagnosis\"], header=None)"
   ]
  },
  {
   "cell_type": "markdown",
   "metadata": {},
   "source": [
    "#### Column names"
   ]
  },
  {
   "cell_type": "markdown",
   "metadata": {},
   "source": [
    "Season in which the analysis was performed. 1) winter, 2) spring, 3) Summer, 4) fall. (-1, -0.33, 0.33, 1) \n",
    "\n",
    "Age at the time of analysis. 18-36 (0, 1) \n",
    "\n",
    "Childish diseases (ie , chicken pox, measles, mumps, polio) 1) yes, 2) no. (0, 1) \n",
    "\n",
    "Accident or serious trauma 1) yes, 2) no. (0, 1) \n",
    "\n",
    "Surgical intervention 1) yes, 2) no. (0, 1) \n",
    "\n",
    "High fevers in the last year 1) less than three months ago, 2) more than three months ago, 3) no. (-1, 0, 1) \n",
    "\n",
    "Frequency of alcohol consumption 1) several times a day, 2) every day, 3) several times a week, 4) once a week, 5) hardly ever or never (0, 1) \n",
    "\n",
    "Smoking habit 1) never, 2) occasional 3) daily. (-1, 0, 1) \n",
    "\n",
    "Number of hours spent sitting per day ene-16 (0, 1) \n",
    "\n",
    "Output: Diagnosis normal (N), altered (O) "
   ]
  },
  {
   "cell_type": "markdown",
   "metadata": {},
   "source": [
    "#### Convert class values to binary"
   ]
  },
  {
   "cell_type": "code",
   "execution_count": 4,
   "metadata": {
    "collapsed": true
   },
   "outputs": [],
   "source": [
    "for i in range(0, len(dfFert)):\n",
    "    if(dfFert['Diagnosis'][i]=='N'):\n",
    "        dfFert.loc[i, 'Diagnosis'] = '1'\n",
    "    elif(dfFert['Diagnosis'][i]=='O'):\n",
    "        dfFert.loc[i, 'Diagnosis'] = '0'"
   ]
  },
  {
   "cell_type": "code",
   "execution_count": 5,
   "metadata": {
    "scrolled": true
   },
   "outputs": [
    {
     "data": {
      "text/html": [
       "<div>\n",
       "<style scoped>\n",
       "    .dataframe tbody tr th:only-of-type {\n",
       "        vertical-align: middle;\n",
       "    }\n",
       "\n",
       "    .dataframe tbody tr th {\n",
       "        vertical-align: top;\n",
       "    }\n",
       "\n",
       "    .dataframe thead th {\n",
       "        text-align: right;\n",
       "    }\n",
       "</style>\n",
       "<table border=\"1\" class=\"dataframe\">\n",
       "  <thead>\n",
       "    <tr style=\"text-align: right;\">\n",
       "      <th></th>\n",
       "      <th>Season of analysis</th>\n",
       "      <th>Age</th>\n",
       "      <th>Childish diseases</th>\n",
       "      <th>Accident/trauma</th>\n",
       "      <th>Surgical intervention</th>\n",
       "      <th>High fever in last year</th>\n",
       "      <th>Freq of alcohol consumption</th>\n",
       "      <th>Smoking habit</th>\n",
       "      <th>No of hrs sitting per day</th>\n",
       "      <th>Diagnosis</th>\n",
       "    </tr>\n",
       "  </thead>\n",
       "  <tbody>\n",
       "    <tr>\n",
       "      <th>0</th>\n",
       "      <td>-0.33</td>\n",
       "      <td>0.69</td>\n",
       "      <td>0</td>\n",
       "      <td>1</td>\n",
       "      <td>1</td>\n",
       "      <td>0</td>\n",
       "      <td>0.8</td>\n",
       "      <td>0</td>\n",
       "      <td>0.88</td>\n",
       "      <td>1</td>\n",
       "    </tr>\n",
       "    <tr>\n",
       "      <th>1</th>\n",
       "      <td>-0.33</td>\n",
       "      <td>0.94</td>\n",
       "      <td>1</td>\n",
       "      <td>0</td>\n",
       "      <td>1</td>\n",
       "      <td>0</td>\n",
       "      <td>0.8</td>\n",
       "      <td>1</td>\n",
       "      <td>0.31</td>\n",
       "      <td>0</td>\n",
       "    </tr>\n",
       "    <tr>\n",
       "      <th>2</th>\n",
       "      <td>-0.33</td>\n",
       "      <td>0.50</td>\n",
       "      <td>1</td>\n",
       "      <td>0</td>\n",
       "      <td>0</td>\n",
       "      <td>0</td>\n",
       "      <td>1.0</td>\n",
       "      <td>-1</td>\n",
       "      <td>0.50</td>\n",
       "      <td>1</td>\n",
       "    </tr>\n",
       "    <tr>\n",
       "      <th>3</th>\n",
       "      <td>-0.33</td>\n",
       "      <td>0.75</td>\n",
       "      <td>0</td>\n",
       "      <td>1</td>\n",
       "      <td>1</td>\n",
       "      <td>0</td>\n",
       "      <td>1.0</td>\n",
       "      <td>-1</td>\n",
       "      <td>0.38</td>\n",
       "      <td>1</td>\n",
       "    </tr>\n",
       "    <tr>\n",
       "      <th>4</th>\n",
       "      <td>-0.33</td>\n",
       "      <td>0.67</td>\n",
       "      <td>1</td>\n",
       "      <td>1</td>\n",
       "      <td>0</td>\n",
       "      <td>0</td>\n",
       "      <td>0.8</td>\n",
       "      <td>-1</td>\n",
       "      <td>0.50</td>\n",
       "      <td>0</td>\n",
       "    </tr>\n",
       "  </tbody>\n",
       "</table>\n",
       "</div>"
      ],
      "text/plain": [
       "   Season of analysis   Age  Childish diseases  Accident/trauma  \\\n",
       "0               -0.33  0.69                  0                1   \n",
       "1               -0.33  0.94                  1                0   \n",
       "2               -0.33  0.50                  1                0   \n",
       "3               -0.33  0.75                  0                1   \n",
       "4               -0.33  0.67                  1                1   \n",
       "\n",
       "   Surgical intervention  High fever in last year  \\\n",
       "0                      1                        0   \n",
       "1                      1                        0   \n",
       "2                      0                        0   \n",
       "3                      1                        0   \n",
       "4                      0                        0   \n",
       "\n",
       "   Freq of alcohol consumption  Smoking habit  No of hrs sitting per day  \\\n",
       "0                          0.8              0                       0.88   \n",
       "1                          0.8              1                       0.31   \n",
       "2                          1.0             -1                       0.50   \n",
       "3                          1.0             -1                       0.38   \n",
       "4                          0.8             -1                       0.50   \n",
       "\n",
       "  Diagnosis  \n",
       "0         1  \n",
       "1         0  \n",
       "2         1  \n",
       "3         1  \n",
       "4         0  "
      ]
     },
     "execution_count": 5,
     "metadata": {},
     "output_type": "execute_result"
    }
   ],
   "source": [
    "dfFert.head()"
   ]
  },
  {
   "cell_type": "markdown",
   "metadata": {},
   "source": [
    "### Splitting data into traina nd test & Model fitting "
   ]
  },
  {
   "cell_type": "code",
   "execution_count": 6,
   "metadata": {
    "collapsed": true
   },
   "outputs": [],
   "source": [
    "from sklearn.model_selection import train_test_split\n",
    "x = dfFert.values[:,0:9]\n",
    "y = dfFert.values[:,9:10]\n",
    "seed(1)\n",
    "X_train, X_validation, y_train, y_validation = train_test_split(x, y, test_size=0.3)\n",
    "\n",
    "#Model fitting\n",
    "from sklearn import tree\n",
    "clf = tree.DecisionTreeClassifier()\n",
    "clf = clf.fit(X_train, y_train)"
   ]
  },
  {
   "cell_type": "code",
   "execution_count": 7,
   "metadata": {},
   "outputs": [
    {
     "data": {
      "text/plain": [
       "98.571428571428584"
      ]
     },
     "execution_count": 7,
     "metadata": {},
     "output_type": "execute_result"
    }
   ],
   "source": [
    "#Train accuracy\n",
    "from sklearn.metrics import accuracy_score\n",
    "y_train_pred = clf.predict(X_train)\n",
    "accuracy_score(y_train,y_train_pred)*100"
   ]
  },
  {
   "cell_type": "markdown",
   "metadata": {},
   "source": [
    "### 1. Accuracy of model on Test data"
   ]
  },
  {
   "cell_type": "code",
   "execution_count": 8,
   "metadata": {},
   "outputs": [
    {
     "data": {
      "text/plain": [
       "80.0"
      ]
     },
     "execution_count": 8,
     "metadata": {},
     "output_type": "execute_result"
    }
   ],
   "source": [
    "#Test accuracy\n",
    "y_test_pred = clf.predict(X_validation)\n",
    "accuracy_score(y_validation,y_test_pred)*100"
   ]
  },
  {
   "cell_type": "markdown",
   "metadata": {},
   "source": [
    "##### Accuracy is a global evaluation metric which denotes the rate of correct predictions. The test data has been predicted with an accuracy of 80%. This shows that 80% of the predictions has matched the true values of the instances in our test set, while 20% of the test set was predicted incorrectly. It might be true that accuracy is high because the number of instances in both the classes are not balanced."
   ]
  },
  {
   "cell_type": "markdown",
   "metadata": {},
   "source": [
    "### 2. Precision and Recall values"
   ]
  },
  {
   "cell_type": "code",
   "execution_count": 9,
   "metadata": {},
   "outputs": [
    {
     "data": {
      "text/plain": [
       "0.75714285714285723"
      ]
     },
     "execution_count": 9,
     "metadata": {},
     "output_type": "execute_result"
    }
   ],
   "source": [
    "#Precision value\n",
    "from sklearn.metrics import precision_score\n",
    "precision = precision_score(y_validation,y_test_pred, average='weighted')\n",
    "precision"
   ]
  },
  {
   "cell_type": "code",
   "execution_count": 10,
   "metadata": {},
   "outputs": [
    {
     "data": {
      "text/plain": [
       "0.80000000000000004"
      ]
     },
     "execution_count": 10,
     "metadata": {},
     "output_type": "execute_result"
    }
   ],
   "source": [
    "#Recall value\n",
    "from sklearn.metrics import recall_score\n",
    "recall = recall_score(y_validation,y_test_pred, average='weighted') \n",
    "recall"
   ]
  },
  {
   "cell_type": "markdown",
   "metadata": {},
   "source": [
    "##### Precision = tp/(tp+fp). This shows how often we are correct when we say that an instance belongs to the positive class. High precision relates to the low false positive rate. We have got 0.757 precision which is pretty good.\n",
    "##### Conversely, Recall = tp/(tp+fn). This shows the percentage of true positive instances that we are infact labelling as being positive. We have got recall of 0.8 which is good for this model as it’s above 0.5."
   ]
  },
  {
   "cell_type": "markdown",
   "metadata": {},
   "source": [
    "### 3. Classification Report"
   ]
  },
  {
   "cell_type": "code",
   "execution_count": 11,
   "metadata": {},
   "outputs": [
    {
     "name": "stdout",
     "output_type": "stream",
     "text": [
      "             precision    recall  f1-score   support\n",
      "\n",
      "          0       0.50      0.17      0.25         6\n",
      "          1       0.82      0.96      0.88        24\n",
      "\n",
      "avg / total       0.76      0.80      0.76        30\n",
      "\n"
     ]
    }
   ],
   "source": [
    "#Classification report\n",
    "from sklearn.metrics import classification_report\n",
    "\n",
    "#target_names = ['Diagnosis Normal', 'Diagnosis altered']\n",
    "print(classification_report(y_validation,y_test_pred))\n"
   ]
  },
  {
   "cell_type": "markdown",
   "metadata": {},
   "source": [
    "##### The precision and recall values for each class is shown. Also the f1-scores corresponding to every class shows the accuracy of the classifier in classifying the data points in that particular class compared to all other classes. The support is the number of samples of the true response that lie in that class. The last line gives a weighted average of precision, recall and f1-score where the weights are the support values. If f1-score is high, it shows that the number of false positives and false negatives are low. Here, f1-score is not too high for class 0."
   ]
  },
  {
   "cell_type": "markdown",
   "metadata": {},
   "source": [
    "### 4. Confusion Matrix"
   ]
  },
  {
   "cell_type": "code",
   "execution_count": 12,
   "metadata": {},
   "outputs": [
    {
     "data": {
      "text/plain": [
       "array([[ 1,  5],\n",
       "       [ 1, 23]], dtype=int64)"
      ]
     },
     "execution_count": 12,
     "metadata": {},
     "output_type": "execute_result"
    }
   ],
   "source": [
    "#Confusion matrix\n",
    "from sklearn.metrics import confusion_matrix\n",
    "confusion_matrix(y_validation,y_test_pred)\n"
   ]
  },
  {
   "cell_type": "code",
   "execution_count": 13,
   "metadata": {},
   "outputs": [
    {
     "data": {
      "text/plain": [
       "(1, 5, 1, 23)"
      ]
     },
     "execution_count": 13,
     "metadata": {},
     "output_type": "execute_result"
    }
   ],
   "source": [
    "tn, fp, fn, tp = confusion_matrix(y_validation,y_test_pred).ravel()\n",
    "tn, fp, fn, tp"
   ]
  },
  {
   "cell_type": "markdown",
   "metadata": {},
   "source": [
    "##### Confusion matrix gives a visual representation of the results where the upper left quadrant denotes the true negative (tn) samples, upper right quadrant give the false positive (fp) samples, lower left gives false negative (fn), lower right quadrant denotes the true positive (tp) samples.\n",
    "##### There are 6 samples in the test set belonging to the negative class out of which 1 sample is predicted right, while the other 5 are predicted as positive. \n",
    "##### There are 24 samples in the test set belonging to the positive class out of which 23 samples are predicted correctly, while the remaining one sample was predicted incorrectly."
   ]
  },
  {
   "cell_type": "code",
   "execution_count": 14,
   "metadata": {
    "collapsed": true
   },
   "outputs": [],
   "source": [
    "#Convert y_validation and predictions from char to int values\n",
    "y_val = [[int(i) for i in l] for l in y_validation]\n",
    "y_val_pred = [[int(i) for i in l] for l in y_test_pred]"
   ]
  },
  {
   "cell_type": "markdown",
   "metadata": {},
   "source": [
    "### 4. Plot ROC curve"
   ]
  },
  {
   "cell_type": "code",
   "execution_count": 15,
   "metadata": {},
   "outputs": [
    {
     "name": "stdout",
     "output_type": "stream",
     "text": [
      "auc_score is:  0.5625\n",
      "fpr is:  [ 0.          0.83333333  1.        ]\n",
      "tpr is:  [ 0.          0.95833333  1.        ]\n"
     ]
    }
   ],
   "source": [
    "#Compute ROC metrics\n",
    "from sklearn.tree import DecisionTreeClassifier\n",
    "from sklearn.metrics import roc_curve, roc_auc_score\n",
    "from matplotlib import pyplot as plt\n",
    "\n",
    "predictions = clf.predict_proba(X_validation)\n",
    "\n",
    "print (\"auc_score is: \",roc_auc_score(y_val, y_val_pred))\n",
    "\n",
    "fpr, tpr, thresholds = roc_curve(y_val, predictions[:,1])\n",
    "print(\"fpr is: \",fpr)\n",
    "print(\"tpr is: \",tpr)"
   ]
  },
  {
   "cell_type": "code",
   "execution_count": 16,
   "metadata": {},
   "outputs": [
    {
     "data": {
      "image/png": "[encoded data removed]",
      "text/plain": [
       "<matplotlib.figure.Figure at 0x20e100c5cc0>"
      ]
     },
     "metadata": {},
     "output_type": "display_data"
    }
   ],
   "source": [
    "plt.clf()\n",
    "plt.plot(fpr, tpr)\n",
    "plt.xlabel('FPR')\n",
    "plt.ylabel('TPR')\n",
    "plt.title('ROC curve')\n",
    "plt.show()"
   ]
  },
  {
   "cell_type": "markdown",
   "metadata": {},
   "source": [
    "##### The Receiver Operating Characteristic (ROC) curve plots the True Positive Rate(TPR) on the y-axis and the False Positive Rate(FPR) on the x-axis. The closer the model is to the top-left corner, the more accurate it is. Since this model lies slightly on the left of the diagonal, this is because the tpr is quite high (about 96%) while the fpr is not too low (about 83.33%)."
   ]
  },
  {
   "cell_type": "markdown",
   "metadata": {},
   "source": [
    "### 5. Precision-Recall curve"
   ]
  },
  {
   "cell_type": "code",
   "execution_count": 17,
   "metadata": {},
   "outputs": [
    {
     "data": {
      "text/plain": [
       "Text(0.5,1,'2-class Precision-Recall curve: AP=0.82')"
      ]
     },
     "execution_count": 17,
     "metadata": {},
     "output_type": "execute_result"
    },
    {
     "data": {
      "image/png": "[encoded data removed]",
      "text/plain": [
       "<matplotlib.figure.Figure at 0x20e103b1978>"
      ]
     },
     "metadata": {},
     "output_type": "display_data"
    }
   ],
   "source": [
    "from sklearn.metrics import precision_recall_curve\n",
    "from sklearn.metrics import average_precision_score\n",
    "import matplotlib.pyplot as plt\n",
    "\n",
    "average_precision = average_precision_score(y_val, predictions[:,1])\n",
    "\n",
    "precision, recall, _ = precision_recall_curve(y_val, predictions[:,1])\n",
    "\n",
    "plt.step(recall, precision, color='b', alpha=0.2,\n",
    "         where='post')\n",
    "plt.fill_between(recall, precision, step='post', alpha=0.2,\n",
    "                 color='b')\n",
    "\n",
    "plt.xlabel('Recall')\n",
    "plt.ylabel('Precision')\n",
    "plt.ylim([0.0, 1.05])\n",
    "plt.xlim([0.0, 1.0])\n",
    "plt.title('2-class Precision-Recall curve: AP={0:0.2f}'.format(\n",
    "          average_precision))"
   ]
  },
  {
   "cell_type": "markdown",
   "metadata": {},
   "source": [
    "##### The Precision-Recall curve plots Precision on the y-axis and Recall in the x-axis. The ideal model would represent a curve where Precision value of 1 and Recall value of 1 as well. The precision-recall curve typically starts out relatively high, and descends though not monotonically. Here we can see that the precision drops by about 0.03 at a Recall value of nearly 0.97. This low precision can be a result of the imbalanced dataset."
   ]
  },
  {
   "cell_type": "code",
   "execution_count": null,
   "metadata": {
    "collapsed": true
   },
   "outputs": [],
   "source": []
  }
 ],
 "metadata": {
  "kernelspec": {
   "display_name": "Python 3",
   "language": "python",
   "name": "python3"
  },
  "language_info": {
   "codemirror_mode": {
    "name": "ipython",
    "version": 3
   },
   "file_extension": ".py",
   "mimetype": "text/x-python",
   "name": "python",
   "nbconvert_exporter": "python",
   "pygments_lexer": "ipython3",
   "version": "3.7.0"
  }
 },
 "nbformat": 4,
 "nbformat_minor": 2
}
