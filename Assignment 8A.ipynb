{
 "cells": [
  {
   "cell_type": "code",
   "execution_count": 4,
   "metadata": {},
   "outputs": [
    {
     "data": {
      "text/html": [
       "<div>\n",
       "<style scoped>\n",
       "    .dataframe tbody tr th:only-of-type {\n",
       "        vertical-align: middle;\n",
       "    }\n",
       "\n",
       "    .dataframe tbody tr th {\n",
       "        vertical-align: top;\n",
       "    }\n",
       "\n",
       "    .dataframe thead th {\n",
       "        text-align: right;\n",
       "    }\n",
       "</style>\n",
       "<table border=\"1\" class=\"dataframe\">\n",
       "  <thead>\n",
       "    <tr style=\"text-align: right;\">\n",
       "      <th></th>\n",
       "      <th>Age of the patient</th>\n",
       "      <th>Spectacle prescription</th>\n",
       "      <th>Astigmatic</th>\n",
       "      <th>Tear production rate</th>\n",
       "      <th>Type of lense</th>\n",
       "    </tr>\n",
       "  </thead>\n",
       "  <tbody>\n",
       "    <tr>\n",
       "      <th>1</th>\n",
       "      <td>1</td>\n",
       "      <td>1</td>\n",
       "      <td>1</td>\n",
       "      <td>1</td>\n",
       "      <td>3</td>\n",
       "    </tr>\n",
       "    <tr>\n",
       "      <th>2</th>\n",
       "      <td>1</td>\n",
       "      <td>1</td>\n",
       "      <td>1</td>\n",
       "      <td>2</td>\n",
       "      <td>2</td>\n",
       "    </tr>\n",
       "    <tr>\n",
       "      <th>3</th>\n",
       "      <td>1</td>\n",
       "      <td>1</td>\n",
       "      <td>2</td>\n",
       "      <td>1</td>\n",
       "      <td>3</td>\n",
       "    </tr>\n",
       "    <tr>\n",
       "      <th>4</th>\n",
       "      <td>1</td>\n",
       "      <td>1</td>\n",
       "      <td>2</td>\n",
       "      <td>2</td>\n",
       "      <td>1</td>\n",
       "    </tr>\n",
       "    <tr>\n",
       "      <th>5</th>\n",
       "      <td>1</td>\n",
       "      <td>2</td>\n",
       "      <td>1</td>\n",
       "      <td>1</td>\n",
       "      <td>3</td>\n",
       "    </tr>\n",
       "  </tbody>\n",
       "</table>\n",
       "</div>"
      ],
      "text/plain": [
       "   Age of the patient  Spectacle prescription  Astigmatic  \\\n",
       "1                   1                       1           1   \n",
       "2                   1                       1           1   \n",
       "3                   1                       1           2   \n",
       "4                   1                       1           2   \n",
       "5                   1                       2           1   \n",
       "\n",
       "   Tear production rate  Type of lense  \n",
       "1                     1              3  \n",
       "2                     2              2  \n",
       "3                     1              3  \n",
       "4                     2              1  \n",
       "5                     1              3  "
      ]
     },
     "execution_count": 4,
     "metadata": {},
     "output_type": "execute_result"
    }
   ],
   "source": [
    "import pandas as pd \n",
    "#Load Iris dataset\n",
    "fileURL = \"http://archive.ics.uci.edu/ml/machine-learning-databases/lenses/lenses.data\"\n",
    "dfLenses = pd.read_csv(fileURL, names=[\"Age of the patient\", \"Spectacle prescription\", \"Astigmatic\", \"Tear production rate\",\n",
    "                                       \"Type of lense\"], header=None, delim_whitespace=True)\n",
    "dfLenses.head()"
   ]
  },
  {
   "cell_type": "markdown",
   "metadata": {},
   "source": [
    "##### 1. Write a small paragraph describing the dataset that you choose, its features, number of instances, nature of the data, and anything else that you found to be interesting.\n"
   ]
  },
  {
   "cell_type": "markdown",
   "metadata": {},
   "source": [
    "For this assignment the dataset chosen is for fitting contact lenses. Based on different attributes it is decided if the patient should be fitted with hard contact lenses, soft contact lenses or no contact lens. \n",
    "\n",
    "There are 4 features present in this dataset which are described below - \n",
    "1. Age of the patient - If the patient is young, pre-presbyopic or presbyopic.\n",
    "2. Spectacle prescription - If the patient is myope (short-sighted person) or hypermetrope (far-sighted person)\n",
    "3. Astigmatic - Yes or no, \n",
    "4. Tear production rate - Reduced or normal.\n",
    "\n",
    "This is a small dataset which consists of 24 instances. \n",
    "Each instance is complete(all possible combinations of attribute-value pairs are represented) and correct. \n",
    "All 4 attributes are nominal in nature and the class is also nominal.\n",
    "\n",
    "The class of the data is the 'Type of lense' which is also nominal. The class can have any of the 3 values - \n",
    "1. The patient should be fitted with hard contact lenses,\n",
    "2. The patient should be fitted with soft contact lenses,\n",
    "3. The patient should not be fitted with contact lenses\n",
    "\n",
    "It is interesting to know that all the samples are not equally divided into these 3 classes. Majority of the samples lie in Class 3.\n"
   ]
  },
  {
   "cell_type": "code",
   "execution_count": 5,
   "metadata": {},
   "outputs": [
    {
     "data": {
      "text/html": [
       "<div>\n",
       "<style scoped>\n",
       "    .dataframe tbody tr th:only-of-type {\n",
       "        vertical-align: middle;\n",
       "    }\n",
       "\n",
       "    .dataframe tbody tr th {\n",
       "        vertical-align: top;\n",
       "    }\n",
       "\n",
       "    .dataframe thead th {\n",
       "        text-align: right;\n",
       "    }\n",
       "</style>\n",
       "<table border=\"1\" class=\"dataframe\">\n",
       "  <thead>\n",
       "    <tr style=\"text-align: right;\">\n",
       "      <th></th>\n",
       "      <th>Age of the patient</th>\n",
       "      <th>Spectacle prescription</th>\n",
       "      <th>Astigmatic</th>\n",
       "      <th>Tear production rate</th>\n",
       "      <th>Type of lense</th>\n",
       "    </tr>\n",
       "  </thead>\n",
       "  <tbody>\n",
       "    <tr>\n",
       "      <th>count</th>\n",
       "      <td>24.000000</td>\n",
       "      <td>24.000000</td>\n",
       "      <td>24.000000</td>\n",
       "      <td>24.000000</td>\n",
       "      <td>24.000000</td>\n",
       "    </tr>\n",
       "    <tr>\n",
       "      <th>mean</th>\n",
       "      <td>2.000000</td>\n",
       "      <td>1.500000</td>\n",
       "      <td>1.500000</td>\n",
       "      <td>1.500000</td>\n",
       "      <td>2.458333</td>\n",
       "    </tr>\n",
       "    <tr>\n",
       "      <th>std</th>\n",
       "      <td>0.834058</td>\n",
       "      <td>0.510754</td>\n",
       "      <td>0.510754</td>\n",
       "      <td>0.510754</td>\n",
       "      <td>0.779028</td>\n",
       "    </tr>\n",
       "    <tr>\n",
       "      <th>min</th>\n",
       "      <td>1.000000</td>\n",
       "      <td>1.000000</td>\n",
       "      <td>1.000000</td>\n",
       "      <td>1.000000</td>\n",
       "      <td>1.000000</td>\n",
       "    </tr>\n",
       "    <tr>\n",
       "      <th>25%</th>\n",
       "      <td>1.000000</td>\n",
       "      <td>1.000000</td>\n",
       "      <td>1.000000</td>\n",
       "      <td>1.000000</td>\n",
       "      <td>2.000000</td>\n",
       "    </tr>\n",
       "    <tr>\n",
       "      <th>50%</th>\n",
       "      <td>2.000000</td>\n",
       "      <td>1.500000</td>\n",
       "      <td>1.500000</td>\n",
       "      <td>1.500000</td>\n",
       "      <td>3.000000</td>\n",
       "    </tr>\n",
       "    <tr>\n",
       "      <th>75%</th>\n",
       "      <td>3.000000</td>\n",
       "      <td>2.000000</td>\n",
       "      <td>2.000000</td>\n",
       "      <td>2.000000</td>\n",
       "      <td>3.000000</td>\n",
       "    </tr>\n",
       "    <tr>\n",
       "      <th>max</th>\n",
       "      <td>3.000000</td>\n",
       "      <td>2.000000</td>\n",
       "      <td>2.000000</td>\n",
       "      <td>2.000000</td>\n",
       "      <td>3.000000</td>\n",
       "    </tr>\n",
       "  </tbody>\n",
       "</table>\n",
       "</div>"
      ],
      "text/plain": [
       "       Age of the patient  Spectacle prescription  Astigmatic  \\\n",
       "count           24.000000               24.000000   24.000000   \n",
       "mean             2.000000                1.500000    1.500000   \n",
       "std              0.834058                0.510754    0.510754   \n",
       "min              1.000000                1.000000    1.000000   \n",
       "25%              1.000000                1.000000    1.000000   \n",
       "50%              2.000000                1.500000    1.500000   \n",
       "75%              3.000000                2.000000    2.000000   \n",
       "max              3.000000                2.000000    2.000000   \n",
       "\n",
       "       Tear production rate  Type of lense  \n",
       "count             24.000000      24.000000  \n",
       "mean               1.500000       2.458333  \n",
       "std                0.510754       0.779028  \n",
       "min                1.000000       1.000000  \n",
       "25%                1.000000       2.000000  \n",
       "50%                1.500000       3.000000  \n",
       "75%                2.000000       3.000000  \n",
       "max                2.000000       3.000000  "
      ]
     },
     "execution_count": 5,
     "metadata": {},
     "output_type": "execute_result"
    }
   ],
   "source": [
    "#Nature of data is described below:\n",
    "dfLenses.describe()"
   ]
  },
  {
   "cell_type": "markdown",
   "metadata": {
    "collapsed": true
   },
   "source": [
    "##### 2. Provide a brief analysis of the dataset you downloaded. Does it have missing data? Are the features numeric/discrete/categorical? Create some histograms/boxplots/other visualizations to illustrate the content of the dataset.\n"
   ]
  },
  {
   "cell_type": "markdown",
   "metadata": {},
   "source": [
    "The dataset is complete and has no missing values in the dataset. \n",
    "\n",
    "All the features are nominal. \n",
    "All possible combinations of attribute-value pairs are represented\n",
    "\n",
    "The class distribution is as follows:\n",
    "1. hard contact lenses: 4 instances\n",
    "2. soft contact lenses: 5 instances\n",
    "3. no contact lenses: 15 instances\n"
   ]
  },
  {
   "cell_type": "code",
   "execution_count": 6,
   "metadata": {},
   "outputs": [
    {
     "name": "stdout",
     "output_type": "stream",
     "text": [
      "Populating the interactive namespace from numpy and matplotlib\n"
     ]
    },
    {
     "data": {
      "image/png": "[encoded data removed]",
      "text/plain": [
       "<Figure size 720x576 with 6 Axes>"
      ]
     },
     "metadata": {
      "needs_background": "light"
     },
     "output_type": "display_data"
    }
   ],
   "source": [
    "%pylab inline\n",
    "import warnings\n",
    "warnings.filterwarnings('ignore')\n",
    "histdf = dfLenses.hist(figsize=(10,8))"
   ]
  },
  {
   "cell_type": "markdown",
   "metadata": {
    "collapsed": true
   },
   "source": [
    "##### 3. Using scikit-learns DecisionTreeClassiﬁer, train a supervised learning model that can be used to generate predicions for your data. A reference to how you can do that can be found on scikit-learn"
   ]
  },
  {
   "cell_type": "code",
   "execution_count": 7,
   "metadata": {},
   "outputs": [],
   "source": [
    "from sklearn.model_selection import train_test_split\n",
    "x = dfLenses.values[:,0:4]\n",
    "y = dfLenses.values[:,4:5]\n",
    "X_train, X_validation, y_train, y_validation = train_test_split(x, y, test_size=0.3)\n",
    "\n",
    "#Model fitting\n",
    "from sklearn import tree\n",
    "clf = tree.DecisionTreeClassifier()\n",
    "clf = clf.fit(X_train, y_train)"
   ]
  },
  {
   "cell_type": "code",
   "execution_count": 8,
   "metadata": {},
   "outputs": [
    {
     "data": {
      "text/plain": [
       "100.0"
      ]
     },
     "execution_count": 8,
     "metadata": {},
     "output_type": "execute_result"
    }
   ],
   "source": [
    "#Train accuracy\n",
    "from sklearn.metrics import accuracy_score\n",
    "y_train_pred = clf.predict(X_train)\n",
    "accuracy_score(y_train,y_train_pred)*100"
   ]
  },
  {
   "cell_type": "code",
   "execution_count": 9,
   "metadata": {},
   "outputs": [
    {
     "data": {
      "text/plain": [
       "100.0"
      ]
     },
     "execution_count": 9,
     "metadata": {},
     "output_type": "execute_result"
    }
   ],
   "source": [
    "#Test accuracy\n",
    "y_test_pred = clf.predict(X_validation)\n",
    "accuracy_score(y_validation,y_test_pred)*100"
   ]
  },
  {
   "cell_type": "markdown",
   "metadata": {},
   "source": [
    "##### 4. The link above explains how you can generate a visual output for the tree you just trained. Use that code snippet to create a visualization of your tree.\n"
   ]
  },
  {
   "cell_type": "code",
   "execution_count": 10,
   "metadata": {},
   "outputs": [],
   "source": [
    "import graphviz \n",
    "import os\n",
    "os.environ[\"PATH\"] += os.pathsep + 'C:/Users/aanch/Anaconda3/pkgs/graphviz-2.38.0-4/Library/bin/graphviz/'"
   ]
  },
  {
   "cell_type": "code",
   "execution_count": 11,
   "metadata": {},
   "outputs": [
    {
     "data": {
      "image/svg+xml": [
       "<?xml version=\"1.0\" encoding=\"UTF-8\" standalone=\"no\"?>\r\n",
       "<!DOCTYPE svg PUBLIC \"-//W3C//DTD SVG 1.1//EN\"\r\n",
       " \"http://www.w3.org/Graphics/SVG/1.1/DTD/svg11.dtd\">\r\n",
       "<!-- Generated by graphviz version 2.38.0 (20140413.2041)\r\n",
       " -->\r\n",
       "<!-- Title: Tree Pages: 1 -->\r\n",
       "<svg width=\"799pt\" height=\"552pt\"\r\n",
       " viewBox=\"0.00 0.00 799.00 552.00\" xmlns=\"http://www.w3.org/2000/svg\" xmlns:xlink=\"http://www.w3.org/1999/xlink\">\r\n",
       "<g id=\"graph0\" class=\"graph\" transform=\"scale(1 1) rotate(0) translate(4 548)\">\r\n",
       "<title>Tree</title>\r\n",
       "<polygon fill=\"white\" stroke=\"none\" points=\"-4,4 -4,-548 795,-548 795,4 -4,4\"/>\r\n",
       "<!-- 0 -->\r\n",
       "<g id=\"node1\" class=\"node\"><title>0</title>\r\n",
       "<path fill=\"#8139e5\" fill-opacity=\"0.501961\" stroke=\"black\" d=\"M394.5,-544C394.5,-544 239.5,-544 239.5,-544 233.5,-544 227.5,-538 227.5,-532 227.5,-532 227.5,-473 227.5,-473 227.5,-467 233.5,-461 239.5,-461 239.5,-461 394.5,-461 394.5,-461 400.5,-461 406.5,-467 406.5,-473 406.5,-473 406.5,-532 406.5,-532 406.5,-538 400.5,-544 394.5,-544\"/>\r\n",
       "<text text-anchor=\"start\" x=\"235.5\" y=\"-528.8\" font-family=\"Helvetica,sans-Serif\" font-size=\"14.00\">Tear production rate ≤ 1.5</text>\r\n",
       "<text text-anchor=\"start\" x=\"279.5\" y=\"-513.8\" font-family=\"Helvetica,sans-Serif\" font-size=\"14.00\">gini = 0.531</text>\r\n",
       "<text text-anchor=\"start\" x=\"273.5\" y=\"-498.8\" font-family=\"Helvetica,sans-Serif\" font-size=\"14.00\">samples = 16</text>\r\n",
       "<text text-anchor=\"start\" x=\"264.5\" y=\"-483.8\" font-family=\"Helvetica,sans-Serif\" font-size=\"14.00\">value = [2, 4, 10]</text>\r\n",
       "<text text-anchor=\"start\" x=\"264\" y=\"-468.8\" font-family=\"Helvetica,sans-Serif\" font-size=\"14.00\">class = No lense</text>\r\n",
       "</g>\r\n",
       "<!-- 1 -->\r\n",
       "<g id=\"node2\" class=\"node\"><title>1</title>\r\n",
       "<path fill=\"#8139e5\" stroke=\"black\" d=\"M294,-417.5C294,-417.5 196,-417.5 196,-417.5 190,-417.5 184,-411.5 184,-405.5 184,-405.5 184,-361.5 184,-361.5 184,-355.5 190,-349.5 196,-349.5 196,-349.5 294,-349.5 294,-349.5 300,-349.5 306,-355.5 306,-361.5 306,-361.5 306,-405.5 306,-405.5 306,-411.5 300,-417.5 294,-417.5\"/>\r\n",
       "<text text-anchor=\"start\" x=\"216\" y=\"-402.3\" font-family=\"Helvetica,sans-Serif\" font-size=\"14.00\">gini = 0.0</text>\r\n",
       "<text text-anchor=\"start\" x=\"205.5\" y=\"-387.3\" font-family=\"Helvetica,sans-Serif\" font-size=\"14.00\">samples = 7</text>\r\n",
       "<text text-anchor=\"start\" x=\"196.5\" y=\"-372.3\" font-family=\"Helvetica,sans-Serif\" font-size=\"14.00\">value = [0, 0, 7]</text>\r\n",
       "<text text-anchor=\"start\" x=\"192\" y=\"-357.3\" font-family=\"Helvetica,sans-Serif\" font-size=\"14.00\">class = No lense</text>\r\n",
       "</g>\r\n",
       "<!-- 0&#45;&gt;1 -->\r\n",
       "<g id=\"edge1\" class=\"edge\"><title>0&#45;&gt;1</title>\r\n",
       "<path fill=\"none\" stroke=\"black\" d=\"M292.02,-460.907C285.162,-449.763 277.713,-437.658 270.809,-426.439\"/>\r\n",
       "<polygon fill=\"black\" stroke=\"black\" points=\"273.632,-424.349 265.41,-417.667 267.671,-428.018 273.632,-424.349\"/>\r\n",
       "<text text-anchor=\"middle\" x=\"259.62\" y=\"-438.287\" font-family=\"Helvetica,sans-Serif\" font-size=\"14.00\">True</text>\r\n",
       "</g>\r\n",
       "<!-- 2 -->\r\n",
       "<g id=\"node3\" class=\"node\"><title>2</title>\r\n",
       "<path fill=\"#39e581\" fill-opacity=\"0.164706\" stroke=\"black\" d=\"M442,-425C442,-425 336,-425 336,-425 330,-425 324,-419 324,-413 324,-413 324,-354 324,-354 324,-348 330,-342 336,-342 336,-342 442,-342 442,-342 448,-342 454,-348 454,-354 454,-354 454,-413 454,-413 454,-419 448,-425 442,-425\"/>\r\n",
       "<text text-anchor=\"start\" x=\"338\" y=\"-409.8\" font-family=\"Helvetica,sans-Serif\" font-size=\"14.00\">Astigmatic ≤ 1.5</text>\r\n",
       "<text text-anchor=\"start\" x=\"351.5\" y=\"-394.8\" font-family=\"Helvetica,sans-Serif\" font-size=\"14.00\">gini = 0.642</text>\r\n",
       "<text text-anchor=\"start\" x=\"349.5\" y=\"-379.8\" font-family=\"Helvetica,sans-Serif\" font-size=\"14.00\">samples = 9</text>\r\n",
       "<text text-anchor=\"start\" x=\"340.5\" y=\"-364.8\" font-family=\"Helvetica,sans-Serif\" font-size=\"14.00\">value = [2, 4, 3]</text>\r\n",
       "<text text-anchor=\"start\" x=\"332\" y=\"-349.8\" font-family=\"Helvetica,sans-Serif\" font-size=\"14.00\">class = Soft lense</text>\r\n",
       "</g>\r\n",
       "<!-- 0&#45;&gt;2 -->\r\n",
       "<g id=\"edge2\" class=\"edge\"><title>0&#45;&gt;2</title>\r\n",
       "<path fill=\"none\" stroke=\"black\" d=\"M341.98,-460.907C347.397,-452.105 353.183,-442.703 358.777,-433.612\"/>\r\n",
       "<polygon fill=\"black\" stroke=\"black\" points=\"361.804,-435.372 364.064,-425.021 355.842,-431.703 361.804,-435.372\"/>\r\n",
       "<text text-anchor=\"middle\" x=\"369.855\" y=\"-445.641\" font-family=\"Helvetica,sans-Serif\" font-size=\"14.00\">False</text>\r\n",
       "</g>\r\n",
       "<!-- 3 -->\r\n",
       "<g id=\"node4\" class=\"node\"><title>3</title>\r\n",
       "<path fill=\"#39e581\" fill-opacity=\"0.749020\" stroke=\"black\" d=\"M375,-306C375,-306 205,-306 205,-306 199,-306 193,-300 193,-294 193,-294 193,-235 193,-235 193,-229 199,-223 205,-223 205,-223 375,-223 375,-223 381,-223 387,-229 387,-235 387,-235 387,-294 387,-294 387,-300 381,-306 375,-306\"/>\r\n",
       "<text text-anchor=\"start\" x=\"201\" y=\"-290.8\" font-family=\"Helvetica,sans-Serif\" font-size=\"14.00\">Spectacle prescription ≤ 1.5</text>\r\n",
       "<text text-anchor=\"start\" x=\"256.5\" y=\"-275.8\" font-family=\"Helvetica,sans-Serif\" font-size=\"14.00\">gini = 0.32</text>\r\n",
       "<text text-anchor=\"start\" x=\"250.5\" y=\"-260.8\" font-family=\"Helvetica,sans-Serif\" font-size=\"14.00\">samples = 5</text>\r\n",
       "<text text-anchor=\"start\" x=\"241.5\" y=\"-245.8\" font-family=\"Helvetica,sans-Serif\" font-size=\"14.00\">value = [0, 4, 1]</text>\r\n",
       "<text text-anchor=\"start\" x=\"233\" y=\"-230.8\" font-family=\"Helvetica,sans-Serif\" font-size=\"14.00\">class = Soft lense</text>\r\n",
       "</g>\r\n",
       "<!-- 2&#45;&gt;3 -->\r\n",
       "<g id=\"edge3\" class=\"edge\"><title>2&#45;&gt;3</title>\r\n",
       "<path fill=\"none\" stroke=\"black\" d=\"M354.652,-341.907C346.974,-332.832 338.756,-323.121 330.843,-313.769\"/>\r\n",
       "<polygon fill=\"black\" stroke=\"black\" points=\"333.418,-311.394 324.287,-306.021 328.074,-315.916 333.418,-311.394\"/>\r\n",
       "</g>\r\n",
       "<!-- 8 -->\r\n",
       "<g id=\"node9\" class=\"node\"><title>8</title>\r\n",
       "<path fill=\"none\" stroke=\"black\" d=\"M557,-306C557,-306 417,-306 417,-306 411,-306 405,-300 405,-294 405,-294 405,-235 405,-235 405,-229 411,-223 417,-223 417,-223 557,-223 557,-223 563,-223 569,-229 569,-235 569,-235 569,-294 569,-294 569,-300 563,-306 557,-306\"/>\r\n",
       "<text text-anchor=\"start\" x=\"413\" y=\"-290.8\" font-family=\"Helvetica,sans-Serif\" font-size=\"14.00\">Age of the patient ≤ 1.5</text>\r\n",
       "<text text-anchor=\"start\" x=\"458\" y=\"-275.8\" font-family=\"Helvetica,sans-Serif\" font-size=\"14.00\">gini = 0.5</text>\r\n",
       "<text text-anchor=\"start\" x=\"447.5\" y=\"-260.8\" font-family=\"Helvetica,sans-Serif\" font-size=\"14.00\">samples = 4</text>\r\n",
       "<text text-anchor=\"start\" x=\"438.5\" y=\"-245.8\" font-family=\"Helvetica,sans-Serif\" font-size=\"14.00\">value = [2, 0, 2]</text>\r\n",
       "<text text-anchor=\"start\" x=\"428\" y=\"-230.8\" font-family=\"Helvetica,sans-Serif\" font-size=\"14.00\">class = Hard lense</text>\r\n",
       "</g>\r\n",
       "<!-- 2&#45;&gt;8 -->\r\n",
       "<g id=\"edge8\" class=\"edge\"><title>2&#45;&gt;8</title>\r\n",
       "<path fill=\"none\" stroke=\"black\" d=\"M423.001,-341.907C430.602,-332.832 438.736,-323.121 446.569,-313.769\"/>\r\n",
       "<polygon fill=\"black\" stroke=\"black\" points=\"449.321,-315.934 453.059,-306.021 443.955,-311.439 449.321,-315.934\"/>\r\n",
       "</g>\r\n",
       "<!-- 4 -->\r\n",
       "<g id=\"node5\" class=\"node\"><title>4</title>\r\n",
       "<path fill=\"none\" stroke=\"black\" d=\"M207,-187C207,-187 67,-187 67,-187 61,-187 55,-181 55,-175 55,-175 55,-116 55,-116 55,-110 61,-104 67,-104 67,-104 207,-104 207,-104 213,-104 219,-110 219,-116 219,-116 219,-175 219,-175 219,-181 213,-187 207,-187\"/>\r\n",
       "<text text-anchor=\"start\" x=\"63\" y=\"-171.8\" font-family=\"Helvetica,sans-Serif\" font-size=\"14.00\">Age of the patient ≤ 2.5</text>\r\n",
       "<text text-anchor=\"start\" x=\"108\" y=\"-156.8\" font-family=\"Helvetica,sans-Serif\" font-size=\"14.00\">gini = 0.5</text>\r\n",
       "<text text-anchor=\"start\" x=\"97.5\" y=\"-141.8\" font-family=\"Helvetica,sans-Serif\" font-size=\"14.00\">samples = 2</text>\r\n",
       "<text text-anchor=\"start\" x=\"88.5\" y=\"-126.8\" font-family=\"Helvetica,sans-Serif\" font-size=\"14.00\">value = [0, 1, 1]</text>\r\n",
       "<text text-anchor=\"start\" x=\"80\" y=\"-111.8\" font-family=\"Helvetica,sans-Serif\" font-size=\"14.00\">class = Soft lense</text>\r\n",
       "</g>\r\n",
       "<!-- 3&#45;&gt;4 -->\r\n",
       "<g id=\"edge4\" class=\"edge\"><title>3&#45;&gt;4</title>\r\n",
       "<path fill=\"none\" stroke=\"black\" d=\"M236.917,-222.907C224.457,-213.379 211.078,-203.148 198.291,-193.37\"/>\r\n",
       "<polygon fill=\"black\" stroke=\"black\" points=\"200.058,-190.315 189.989,-187.021 195.806,-195.876 200.058,-190.315\"/>\r\n",
       "</g>\r\n",
       "<!-- 7 -->\r\n",
       "<g id=\"node8\" class=\"node\"><title>7</title>\r\n",
       "<path fill=\"#39e581\" stroke=\"black\" d=\"M355,-179.5C355,-179.5 249,-179.5 249,-179.5 243,-179.5 237,-173.5 237,-167.5 237,-167.5 237,-123.5 237,-123.5 237,-117.5 243,-111.5 249,-111.5 249,-111.5 355,-111.5 355,-111.5 361,-111.5 367,-117.5 367,-123.5 367,-123.5 367,-167.5 367,-167.5 367,-173.5 361,-179.5 355,-179.5\"/>\r\n",
       "<text text-anchor=\"start\" x=\"273\" y=\"-164.3\" font-family=\"Helvetica,sans-Serif\" font-size=\"14.00\">gini = 0.0</text>\r\n",
       "<text text-anchor=\"start\" x=\"262.5\" y=\"-149.3\" font-family=\"Helvetica,sans-Serif\" font-size=\"14.00\">samples = 3</text>\r\n",
       "<text text-anchor=\"start\" x=\"253.5\" y=\"-134.3\" font-family=\"Helvetica,sans-Serif\" font-size=\"14.00\">value = [0, 3, 0]</text>\r\n",
       "<text text-anchor=\"start\" x=\"245\" y=\"-119.3\" font-family=\"Helvetica,sans-Serif\" font-size=\"14.00\">class = Soft lense</text>\r\n",
       "</g>\r\n",
       "<!-- 3&#45;&gt;7 -->\r\n",
       "<g id=\"edge7\" class=\"edge\"><title>3&#45;&gt;7</title>\r\n",
       "<path fill=\"none\" stroke=\"black\" d=\"M294.163,-222.907C295.261,-212.204 296.45,-200.615 297.561,-189.776\"/>\r\n",
       "<polygon fill=\"black\" stroke=\"black\" points=\"301.06,-189.972 298.598,-179.667 294.096,-189.258 301.06,-189.972\"/>\r\n",
       "</g>\r\n",
       "<!-- 5 -->\r\n",
       "<g id=\"node6\" class=\"node\"><title>5</title>\r\n",
       "<path fill=\"#39e581\" stroke=\"black\" d=\"M118,-68C118,-68 12,-68 12,-68 6,-68 0,-62 0,-56 0,-56 0,-12 0,-12 0,-6 6,-0 12,-0 12,-0 118,-0 118,-0 124,-0 130,-6 130,-12 130,-12 130,-56 130,-56 130,-62 124,-68 118,-68\"/>\r\n",
       "<text text-anchor=\"start\" x=\"36\" y=\"-52.8\" font-family=\"Helvetica,sans-Serif\" font-size=\"14.00\">gini = 0.0</text>\r\n",
       "<text text-anchor=\"start\" x=\"25.5\" y=\"-37.8\" font-family=\"Helvetica,sans-Serif\" font-size=\"14.00\">samples = 1</text>\r\n",
       "<text text-anchor=\"start\" x=\"16.5\" y=\"-22.8\" font-family=\"Helvetica,sans-Serif\" font-size=\"14.00\">value = [0, 1, 0]</text>\r\n",
       "<text text-anchor=\"start\" x=\"8\" y=\"-7.8\" font-family=\"Helvetica,sans-Serif\" font-size=\"14.00\">class = Soft lense</text>\r\n",
       "</g>\r\n",
       "<!-- 4&#45;&gt;5 -->\r\n",
       "<g id=\"edge5\" class=\"edge\"><title>4&#45;&gt;5</title>\r\n",
       "<path fill=\"none\" stroke=\"black\" d=\"M110.19,-103.726C104.432,-94.9703 98.3391,-85.7032 92.554,-76.9051\"/>\r\n",
       "<polygon fill=\"black\" stroke=\"black\" points=\"95.3142,-74.7322 86.8956,-68.2996 89.4653,-78.5781 95.3142,-74.7322\"/>\r\n",
       "</g>\r\n",
       "<!-- 6 -->\r\n",
       "<g id=\"node7\" class=\"node\"><title>6</title>\r\n",
       "<path fill=\"#8139e5\" stroke=\"black\" d=\"M258,-68C258,-68 160,-68 160,-68 154,-68 148,-62 148,-56 148,-56 148,-12 148,-12 148,-6 154,-0 160,-0 160,-0 258,-0 258,-0 264,-0 270,-6 270,-12 270,-12 270,-56 270,-56 270,-62 264,-68 258,-68\"/>\r\n",
       "<text text-anchor=\"start\" x=\"180\" y=\"-52.8\" font-family=\"Helvetica,sans-Serif\" font-size=\"14.00\">gini = 0.0</text>\r\n",
       "<text text-anchor=\"start\" x=\"169.5\" y=\"-37.8\" font-family=\"Helvetica,sans-Serif\" font-size=\"14.00\">samples = 1</text>\r\n",
       "<text text-anchor=\"start\" x=\"160.5\" y=\"-22.8\" font-family=\"Helvetica,sans-Serif\" font-size=\"14.00\">value = [0, 0, 1]</text>\r\n",
       "<text text-anchor=\"start\" x=\"156\" y=\"-7.8\" font-family=\"Helvetica,sans-Serif\" font-size=\"14.00\">class = No lense</text>\r\n",
       "</g>\r\n",
       "<!-- 4&#45;&gt;6 -->\r\n",
       "<g id=\"edge6\" class=\"edge\"><title>4&#45;&gt;6</title>\r\n",
       "<path fill=\"none\" stroke=\"black\" d=\"M163.81,-103.726C169.568,-94.9703 175.661,-85.7032 181.446,-76.9051\"/>\r\n",
       "<polygon fill=\"black\" stroke=\"black\" points=\"184.535,-78.5781 187.104,-68.2996 178.686,-74.7322 184.535,-78.5781\"/>\r\n",
       "</g>\r\n",
       "<!-- 9 -->\r\n",
       "<g id=\"node10\" class=\"node\"><title>9</title>\r\n",
       "<path fill=\"#e58139\" stroke=\"black\" d=\"M530,-179.5C530,-179.5 420,-179.5 420,-179.5 414,-179.5 408,-173.5 408,-167.5 408,-167.5 408,-123.5 408,-123.5 408,-117.5 414,-111.5 420,-111.5 420,-111.5 530,-111.5 530,-111.5 536,-111.5 542,-117.5 542,-123.5 542,-123.5 542,-167.5 542,-167.5 542,-173.5 536,-179.5 530,-179.5\"/>\r\n",
       "<text text-anchor=\"start\" x=\"446\" y=\"-164.3\" font-family=\"Helvetica,sans-Serif\" font-size=\"14.00\">gini = 0.0</text>\r\n",
       "<text text-anchor=\"start\" x=\"435.5\" y=\"-149.3\" font-family=\"Helvetica,sans-Serif\" font-size=\"14.00\">samples = 1</text>\r\n",
       "<text text-anchor=\"start\" x=\"426.5\" y=\"-134.3\" font-family=\"Helvetica,sans-Serif\" font-size=\"14.00\">value = [1, 0, 0]</text>\r\n",
       "<text text-anchor=\"start\" x=\"416\" y=\"-119.3\" font-family=\"Helvetica,sans-Serif\" font-size=\"14.00\">class = Hard lense</text>\r\n",
       "</g>\r\n",
       "<!-- 8&#45;&gt;9 -->\r\n",
       "<g id=\"edge9\" class=\"edge\"><title>8&#45;&gt;9</title>\r\n",
       "<path fill=\"none\" stroke=\"black\" d=\"M482.837,-222.907C481.739,-212.204 480.55,-200.615 479.439,-189.776\"/>\r\n",
       "<polygon fill=\"black\" stroke=\"black\" points=\"482.904,-189.258 478.402,-179.667 475.94,-189.972 482.904,-189.258\"/>\r\n",
       "</g>\r\n",
       "<!-- 10 -->\r\n",
       "<g id=\"node11\" class=\"node\"><title>10</title>\r\n",
       "<path fill=\"#8139e5\" fill-opacity=\"0.498039\" stroke=\"black\" d=\"M742,-187C742,-187 572,-187 572,-187 566,-187 560,-181 560,-175 560,-175 560,-116 560,-116 560,-110 566,-104 572,-104 572,-104 742,-104 742,-104 748,-104 754,-110 754,-116 754,-116 754,-175 754,-175 754,-181 748,-187 742,-187\"/>\r\n",
       "<text text-anchor=\"start\" x=\"568\" y=\"-171.8\" font-family=\"Helvetica,sans-Serif\" font-size=\"14.00\">Spectacle prescription ≤ 1.5</text>\r\n",
       "<text text-anchor=\"start\" x=\"619.5\" y=\"-156.8\" font-family=\"Helvetica,sans-Serif\" font-size=\"14.00\">gini = 0.444</text>\r\n",
       "<text text-anchor=\"start\" x=\"617.5\" y=\"-141.8\" font-family=\"Helvetica,sans-Serif\" font-size=\"14.00\">samples = 3</text>\r\n",
       "<text text-anchor=\"start\" x=\"608.5\" y=\"-126.8\" font-family=\"Helvetica,sans-Serif\" font-size=\"14.00\">value = [1, 0, 2]</text>\r\n",
       "<text text-anchor=\"start\" x=\"604\" y=\"-111.8\" font-family=\"Helvetica,sans-Serif\" font-size=\"14.00\">class = No lense</text>\r\n",
       "</g>\r\n",
       "<!-- 8&#45;&gt;10 -->\r\n",
       "<g id=\"edge10\" class=\"edge\"><title>8&#45;&gt;10</title>\r\n",
       "<path fill=\"none\" stroke=\"black\" d=\"M545.981,-222.907C560.09,-213.197 575.257,-202.758 589.71,-192.811\"/>\r\n",
       "<polygon fill=\"black\" stroke=\"black\" points=\"591.87,-195.573 598.124,-187.021 587.902,-189.807 591.87,-195.573\"/>\r\n",
       "</g>\r\n",
       "<!-- 11 -->\r\n",
       "<g id=\"node12\" class=\"node\"><title>11</title>\r\n",
       "<path fill=\"#e58139\" stroke=\"black\" d=\"M639,-68C639,-68 529,-68 529,-68 523,-68 517,-62 517,-56 517,-56 517,-12 517,-12 517,-6 523,-0 529,-0 529,-0 639,-0 639,-0 645,-0 651,-6 651,-12 651,-12 651,-56 651,-56 651,-62 645,-68 639,-68\"/>\r\n",
       "<text text-anchor=\"start\" x=\"555\" y=\"-52.8\" font-family=\"Helvetica,sans-Serif\" font-size=\"14.00\">gini = 0.0</text>\r\n",
       "<text text-anchor=\"start\" x=\"544.5\" y=\"-37.8\" font-family=\"Helvetica,sans-Serif\" font-size=\"14.00\">samples = 1</text>\r\n",
       "<text text-anchor=\"start\" x=\"535.5\" y=\"-22.8\" font-family=\"Helvetica,sans-Serif\" font-size=\"14.00\">value = [1, 0, 0]</text>\r\n",
       "<text text-anchor=\"start\" x=\"525\" y=\"-7.8\" font-family=\"Helvetica,sans-Serif\" font-size=\"14.00\">class = Hard lense</text>\r\n",
       "</g>\r\n",
       "<!-- 10&#45;&gt;11 -->\r\n",
       "<g id=\"edge11\" class=\"edge\"><title>10&#45;&gt;11</title>\r\n",
       "<path fill=\"none\" stroke=\"black\" d=\"M629.817,-103.726C623.919,-94.879 617.673,-85.51 611.754,-76.6303\"/>\r\n",
       "<polygon fill=\"black\" stroke=\"black\" points=\"614.659,-74.6787 606.2,-68.2996 608.835,-78.5616 614.659,-74.6787\"/>\r\n",
       "</g>\r\n",
       "<!-- 12 -->\r\n",
       "<g id=\"node13\" class=\"node\"><title>12</title>\r\n",
       "<path fill=\"#8139e5\" stroke=\"black\" d=\"M779,-68C779,-68 681,-68 681,-68 675,-68 669,-62 669,-56 669,-56 669,-12 669,-12 669,-6 675,-0 681,-0 681,-0 779,-0 779,-0 785,-0 791,-6 791,-12 791,-12 791,-56 791,-56 791,-62 785,-68 779,-68\"/>\r\n",
       "<text text-anchor=\"start\" x=\"701\" y=\"-52.8\" font-family=\"Helvetica,sans-Serif\" font-size=\"14.00\">gini = 0.0</text>\r\n",
       "<text text-anchor=\"start\" x=\"690.5\" y=\"-37.8\" font-family=\"Helvetica,sans-Serif\" font-size=\"14.00\">samples = 2</text>\r\n",
       "<text text-anchor=\"start\" x=\"681.5\" y=\"-22.8\" font-family=\"Helvetica,sans-Serif\" font-size=\"14.00\">value = [0, 0, 2]</text>\r\n",
       "<text text-anchor=\"start\" x=\"677\" y=\"-7.8\" font-family=\"Helvetica,sans-Serif\" font-size=\"14.00\">class = No lense</text>\r\n",
       "</g>\r\n",
       "<!-- 10&#45;&gt;12 -->\r\n",
       "<g id=\"edge12\" class=\"edge\"><title>10&#45;&gt;12</title>\r\n",
       "<path fill=\"none\" stroke=\"black\" d=\"M684.183,-103.726C690.081,-94.879 696.327,-85.51 702.246,-76.6303\"/>\r\n",
       "<polygon fill=\"black\" stroke=\"black\" points=\"705.165,-78.5616 707.8,-68.2996 699.341,-74.6787 705.165,-78.5616\"/>\r\n",
       "</g>\r\n",
       "</g>\r\n",
       "</svg>\r\n"
      ],
      "text/plain": [
       "<graphviz.files.Source at 0x2f11c651518>"
      ]
     },
     "execution_count": 11,
     "metadata": {},
     "output_type": "execute_result"
    }
   ],
   "source": [
    "lensesFeature_names = ['Age of the patient', 'Spectacle prescription', 'Astigmatic', 'Tear production rate']\n",
    "lensesTarget_names = ['Hard lense','Soft lense','No lense']\n",
    "dot_data = tree.export_graphviz(clf, out_file=None, \n",
    "                         feature_names=lensesFeature_names,  \n",
    "                         class_names=lensesTarget_names,  \n",
    "                         filled=True, rounded=True,  \n",
    "                         special_characters=True)  \n",
    "graph = graphviz.Source(dot_data)  \n",
    "graph"
   ]
  },
  {
   "cell_type": "markdown",
   "metadata": {},
   "source": [
    "##### 5. Create a new instance with your choice of values for each of the features. Use your trained model to generate a prediction for it. Using your tree illustration as a reference, write a short paragraph describing how your model went about generating that speciﬁc prediction. Does it make sense to you? Can it be improved? Go back and play with the parameters that you used for training your tree and see if you can obtain better results."
   ]
  },
  {
   "cell_type": "markdown",
   "metadata": {},
   "source": [
    "A new instance is created with following values:\n",
    "1. Age of the patient - Patient is young (Value is 1)\n",
    "2. Spectacle prescription - Patient is hypermetrope (Value is 2)\n",
    "3. Astigmatic - Yes (Value is 1)\n",
    "4. Tear production rate - normal (Value is 2)\n"
   ]
  },
  {
   "cell_type": "code",
   "execution_count": 12,
   "metadata": {},
   "outputs": [
    {
     "data": {
      "text/plain": [
       "array([2], dtype=int64)"
      ]
     },
     "execution_count": 12,
     "metadata": {},
     "output_type": "execute_result"
    }
   ],
   "source": [
    "#Prediction of new instance\n",
    "new_instance = [[1, 2, 1, 2]]\n",
    "clf.predict(new_instance)"
   ]
  },
  {
   "cell_type": "markdown",
   "metadata": {},
   "source": [
    "Using the tree as a reference, a brief description is given below on how the model created went about generating the prediction for the new instance:\n",
    "At the first level, 'Tear production rate' has a value of 2 in the instance, which is greater than 1.5. So, we move to the right of the tree.\n",
    "At the second level, 'Astigmatic' has a value of 1 in the instance, which is less than 1.5. So, we move to the left of the tree.\n",
    "Here, all 4 samples are belonging to the class 'Soft lense' which is defined as class 2. Hence, the growt h of the tree stops here.\n",
    "The predicted class is also 2 which matches the class traced by the tree. So this makes sense."
   ]
  },
  {
   "cell_type": "markdown",
   "metadata": {},
   "source": [
    "Since the prediction was accurate, there is no scope for improvement here, but we can try to improve the accuracy obtained for test data was 75%."
   ]
  },
  {
   "cell_type": "code",
   "execution_count": 13,
   "metadata": {},
   "outputs": [
    {
     "name": "stderr",
     "output_type": "stream",
     "text": [
      "C:\\Users\\Animesh Mane\\AppData\\Local\\Continuum\\anaconda3\\lib\\site-packages\\sklearn\\tree\\tree.py:282: DeprecationWarning: The min_impurity_split parameter is deprecated and will be removed in version 0.21. Use the min_impurity_decrease parameter instead.\n",
      "  DeprecationWarning)\n"
     ]
    }
   ],
   "source": [
    "clf1 = tree.DecisionTreeClassifier(criterion='gini', splitter='random', max_depth=1, min_samples_split=2, \n",
    "                                   min_samples_leaf=1, min_weight_fraction_leaf=0, max_features=None, \n",
    "                                   random_state=100, max_leaf_nodes=None, min_impurity_decrease=0.0, \n",
    "                                   min_impurity_split=0.25, class_weight=None, presort=False)\n",
    "\n",
    "clf1 = clf1.fit(X_train, y_train)"
   ]
  },
  {
   "cell_type": "code",
   "execution_count": 14,
   "metadata": {},
   "outputs": [
    {
     "data": {
      "text/plain": [
       "68.75"
      ]
     },
     "execution_count": 14,
     "metadata": {},
     "output_type": "execute_result"
    }
   ],
   "source": [
    "y_train_pred1 = clf1.predict(X_train)\n",
    "#y_train_pred\n",
    "accuracy_score(y_train,y_train_pred1)*100"
   ]
  },
  {
   "cell_type": "code",
   "execution_count": 15,
   "metadata": {},
   "outputs": [
    {
     "data": {
      "text/plain": [
       "75.0"
      ]
     },
     "execution_count": 15,
     "metadata": {},
     "output_type": "execute_result"
    }
   ],
   "source": [
    "y_test_pred1 = clf1.predict(X_validation)\n",
    "accuracy_score(y_validation,y_test_pred1)*100"
   ]
  },
  {
   "cell_type": "markdown",
   "metadata": {},
   "source": [
    "Max Depth controls the maximum depth of the tree that will be created. It can also be described as the length of the longest path from the tree root to a leaf.\n",
    "On changing the maximum depth to 1, the accuracy reduced on the train as well as test data. This might be because pruning the treecould avoid capturing all the details required for classification. This would be a bas learner. \n",
    "Also, increasing the max_depth of the tree to a very large value could lead to overfitting because in that case the smallest details are captured by the tree and hence it is not learning."
   ]
  },
  {
   "cell_type": "markdown",
   "metadata": {},
   "source": [
    "Therefore, accuracy can be improved by changing the hyperparameters but in this case, the best accuracy is obtained with the default parameters itself."
   ]
  }
 ],
 "metadata": {
  "kernelspec": {
   "display_name": "Python 3",
   "language": "python",
   "name": "python3"
  },
  "language_info": {
   "codemirror_mode": {
    "name": "ipython",
    "version": 3
   },
   "file_extension": ".py",
   "mimetype": "text/x-python",
   "name": "python",
   "nbconvert_exporter": "python",
   "pygments_lexer": "ipython3",
   "version": "3.7.0"
  }
 },
 "nbformat": 4,
 "nbformat_minor": 2
}
